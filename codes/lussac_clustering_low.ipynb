{
 "cells": [
  {
   "cell_type": "code",
   "execution_count": null,
   "metadata": {},
   "outputs": [],
   "source": [
    "def clustering_data(data, clustering_method = 'AffinityPropagation', plot  = True, dim_fold  = 'PCA', *kwargs) : \n",
    "    \n",
    "    methods = [AffinityPropagation(), Birch(), HDBSCAN(min_cluster_size=3, max_cluster_size = 10, store_centers= 'both')]\n",
    "    methods_str = ['AffinityPropagation', 'Birch', 'HDBSCAN']\n",
    "    \n",
    "    \n",
    "    dim_fold_method = [PCA(2), Isomap(n_neighbors= 4, n_components=2)]\n",
    "    dim_fold_method_str = ['PCA', 'Isomap']\n",
    "    \n",
    "    if dim_fold not in dim_fold_method_str : raise Exception('Unknown folding methods, availaible one : ' + str(dim_fold_method_str ))\n",
    "    \n",
    "    \n",
    "    \n",
    "    if clustering_method not in methods_str : raise Exception('Unknown clustering methods, availaible one : ' + str(methods_str))\n",
    "    \n",
    "\n",
    "    method = methods[methods_str.index(clustering_method)]\n",
    "    print(method)\n",
    "    method.fit(data)\n",
    "    print(method.labels_.max())\n",
    "    \n",
    "    \n",
    "    dim_fold = dim_fold_method[dim_fold_method_str.index(dim_fold)]\n",
    "    data = dim_fold.fit_transform(data)\n",
    "    \n",
    "    elements_link = unique_indexes(matched_nodes[:,2])\n",
    "    \n",
    "    if plot : \n",
    "\n",
    "        fig, ax = plt.subplots()\n",
    "        X, Y = data[:, 0], data[:, 1]\n",
    "        mask = matched_nodes[:,2] == '0'\n",
    "        scat = ax.scatter(X[mask],Y[mask], s = 5, c = method.labels_[mask].astype(np.uint32), cmap = cmap1)\n",
    "\n",
    "        print( method.labels_[mask])\n",
    "        ax.plot(X[mask], Y[mask], color = 'k', lw = .4)\n",
    "            \n",
    "        plt.colorbar(scat)\n",
    "    \n",
    "    return method, dim_fold"
   ]
  },
  {
   "cell_type": "code",
   "execution_count": null,
   "metadata": {},
   "outputs": [],
   "source": [
    "def cluster_acc_(y_pred, y_true):\n",
    "    \"\"\"\n",
    "    Calculate clustering accuracy.\n",
    "\n",
    "    # Arguments\n",
    "        y: true labels, numpy.array with shape `(n_samples,)`\n",
    "        y_pred: predicted labels, numpy.array with shape `(n_samples,)`\n",
    "\n",
    "    # Return\n",
    "        accuracy, in [0,1]\n",
    "        \n",
    "    \"\"\"\n",
    "\n",
    "    assert len(y_pred) == len(y_true)\n",
    "    \n",
    "    def neighboors(arr) : \n",
    "        \n",
    "        ng = [np.arange(len(arr))[arr == arr[k]] for k in range(len(arr))]\n",
    "        \n",
    "        return ng\n",
    "    \n",
    "    ng_true = neighboors(y_true)\n",
    "    ng_pred = neighboors(y_pred)\n",
    "    metrics = np.mean([len(list(set(ng_pred[k]) & set(ng_true[k])))/ max(len(ng_true[k]), len(ng_pred[k])) for k in range(len(y_pred))])\n",
    "\n",
    "    return metrics"
   ]
  },
  {
   "cell_type": "code",
   "execution_count": null,
   "metadata": {},
   "outputs": [],
   "source": [
    "def cluster_acc(method, X, y_true):\n",
    "    \"\"\"\n",
    "    Calculate clustering accuracy.\n",
    "\n",
    "    # Arguments\n",
    "        y: true labels, numpy.array with shape `(n_samples,)`\n",
    "        y_pred: predicted labels, numpy.array with shape `(n_samples,)`\n",
    "\n",
    "    # Return\n",
    "        accuracy, in [0,1]\n",
    "        \n",
    "    \"\"\"\n",
    "    method.fit(X)\n",
    "    y_pred = method.labels_\n",
    "    assert len(y_pred) == len(y_true)\n",
    "    \n",
    "    def neighboors(arr) : \n",
    "        \n",
    "        ng = [np.arange(len(arr))[arr == arr[k]] for k in range(len(arr))]\n",
    "        \n",
    "        return ng\n",
    "    ng_true = neighboors(y_true)\n",
    "    ng_pred = neighboors(y_pred)\n",
    "    metrics = np.mean([len(list(set(ng_pred[k]) & set(ng_true[k])))/ max(len(ng_true[k]), len(ng_pred[k])) for k in range(len(y_pred))])\n",
    "\n",
    "    return metrics\n"
   ]
  },
  {
   "cell_type": "code",
   "execution_count": null,
   "metadata": {},
   "outputs": [],
   "source": [
    "from sklearn.model_selection import GridSearchCV"
   ]
  },
  {
   "cell_type": "code",
   "execution_count": null,
   "metadata": {},
   "outputs": [],
   "source": [
    "method = HDBSCAN(alpha = .1, min_cluster_size=2,max_cluster_size=20, n_jobs = - 1)\n",
    "method.fit(data2.reshape((len(data2),3 * len(data2) )))"
   ]
  },
  {
   "cell_type": "code",
   "execution_count": null,
   "metadata": {},
   "outputs": [],
   "source": [
    "cluster_acc_(method.labels_, y_true)"
   ]
  },
  {
   "cell_type": "code",
   "execution_count": null,
   "metadata": {},
   "outputs": [],
   "source": [
    "method = HDBSCAN(min_cluster_size=2,n_jobs = -1)"
   ]
  },
  {
   "cell_type": "code",
   "execution_count": null,
   "metadata": {},
   "outputs": [],
   "source": [
    "param_grid = [{'cluster_selection_epsilon': np.linspace(0,1, 5, endpoint= False), 'max_cluster_size' : [17, 19, 22], 'alpha' : np.linspace(0.1,2,8), }]\n",
    "clf = GridSearchCV(method, param_grid, scoring=cluster_acc, verbose = 3)\n",
    "clf.fit(data2.reshape((len(data2),3 * len(data2) )), y_true)"
   ]
  }
 ],
 "metadata": {
  "language_info": {
   "name": "python"
  }
 },
 "nbformat": 4,
 "nbformat_minor": 2
}
